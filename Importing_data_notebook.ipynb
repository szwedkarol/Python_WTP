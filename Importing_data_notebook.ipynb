{
 "cells": [
  {
   "cell_type": "markdown",
   "id": "edb9f3e1",
   "metadata": {},
   "source": [
    "Autor: Karol Szwed\\\n",
    "Data: 17.02.2023 r.\\\n",
    "Przedmiot: Kurs programowania w Python\\\n",
    "Projekt: Końcowe zadanie zaliczeniowe - analiza danych z użyciem API dla ZTM w Warszawie"
   ]
  },
  {
   "cell_type": "markdown",
   "id": "b182159c",
   "metadata": {},
   "source": [
    "# Cel projektu\n",
    "\n",
    "Korzystając z danych dostępnych na stronie https://api.um.warszawa.pl/ zbierane są informacje o pozycjach autobusów w zadanym przedziale czasu. Do analizy wzięte zostały pod uwagę dwa okresy 1-godzinne, dokładnie od 13:30 do 14:30 w czwartek oraz od 16:30 do 17:30 w piątek.\n",
    "\n",
    "Na podstawie zebranych danych została przeprowadzona analiza:\n",
    " - Średniej prędkości autobusów (np. ile autobusów przekroczyło prędkość 50 km/h?)\n",
    " - Punktualność autobusów w obserwowanym okresie (porównanie rzeczywistego czasu dojazdu na przystanki z rozkładem jazdy).\n",
    " \n",
    "Następnie wyniki przeprowadzonej analizy zostały zwizualizowane oraz opisane."
   ]
  },
  {
   "cell_type": "markdown",
   "id": "df37ad0b",
   "metadata": {},
   "source": [
    "# Import danych\n",
    "\n",
    "Najpierw musimy pobrać wszystkie potrzebne dane, w tym:\n",
    "- dane GPS autobusów w dwóch okresach 1-godzinnych (wczesne popołudnie oraz godzina szczytu),\n",
    "- informacje o przystankach autobusowych;\n",
    "\n",
    "Dodatkowo musimy utworzyć zbiory przystanków na trasie każdej z linii autobusowych."
   ]
  },
  {
   "cell_type": "markdown",
   "id": "f5e4b1c6",
   "metadata": {},
   "source": [
    "## Pobranie danych GPS dla autobusów\n",
    "\n",
    "Na początku pobrane zostały dane GPS dla autobusów, w tym:\n",
    "- nr linii autobusowej\n",
    "- szerokość i długość geograficzna\n",
    "- czas pomiaru\n",
    "- nr brygady\n",
    "- nr pojadzu"
   ]
  },
  {
   "cell_type": "code",
   "execution_count": null,
   "id": "54825598",
   "metadata": {},
   "outputs": [],
   "source": [
    "# Because we are working with large objects that are collected over long periods of time, let's define two helper\n",
    "# functions that will save those objects as binary files, able to be quickly loaded later."
   ]
  },
  {
   "cell_type": "code",
   "execution_count": 32,
   "id": "64010640",
   "metadata": {},
   "outputs": [],
   "source": [
    "# All libraries used across the whole project\n",
    "import warsaw_data_api\n",
    "import datetime\n",
    "import time\n",
    "import json\n",
    "import pandas as pd\n",
    "import csv\n",
    "import pickle\n",
    "import my_pickle_save\n",
    "from collections import defaultdict\n",
    "import geopy.distance\n",
    "\n",
    "\"\"\"\n",
    " * INPUT:\n",
    "    - \"pickle_filename\" - string with the name of the pickle file where the object will be saved;\n",
    "    - \"obj_to_save\" - the object that will be saved in the pickle file.\n",
    " * FUNCTION: Save an object to a pickle file.\n",
    " * OUTPUT: None; function has side effect of creating a pickle file with the saved object.\n",
    "\"\"\"\n",
    "def save_obj_as_pickle_file(pickle_filename, obj_to_save):\n",
    "    with open(pickle_filename, 'wb') as f:\n",
    "        pickle.dump(obj_to_save, f)\n",
    "        \n",
    "\n",
    "\"\"\"\n",
    " * INPUT:\n",
    "    - \"pickle_filename\" - string with the name of the pickle file from which the object will be loaded;\n",
    "    - \"obj_to_load\" - the object that will be loaded from the pickle file.\n",
    " * FUNCTION: Load an object from a pickle file.\n",
    " * OUTPUT: The object loaded from the pickle file.\n",
    "\"\"\"\n",
    "def load_obj_from_pickle_file(pickle_filename):\n",
    "    with open(pickle_filename, 'rb') as f:\n",
    "        return pickle.load(f)"
   ]
  },
  {
   "cell_type": "markdown",
   "id": "17c7c863",
   "metadata": {},
   "source": [
    "Biblioteka \"warsaw_data_api\", dostępna poprzez PIP, udostępnia trzy funkcje, które wykorzystane zostały w projekcie:\n",
    "- ztm.get_buses_location() -> zwraca dane GPS wszystkich autobusów w Warszawie\n",
    "- ztm.get_lines_for_bus_stop_id(stop_id, stop_pole) -> zwraca listę linii zatrzymujących się na przystanku\n",
    "- ztm.get_bus_stop_schedule_by_name(\"Banacha-Szpital\", \"01\", \"504\") -> zwraca rozkład jazdy dla danego przystanku;\n",
    "\n",
    "Uzasadnione jest to faktem, iż dokumentacja Warsaw Open Data API nie zawiera wszystkich zapytań API, jakie mogą zostać zażądane, ID żądań nie zawsze są aktualne oraz nie zawsze opisana jest odpowiedź na dane żądanie.\\\n",
    "Stąd w celu uniknięcia długiej serii prób i błędów uznałem, że skorzystam z tej prostej biblioteki open-source."
   ]
  },
  {
   "cell_type": "code",
   "execution_count": null,
   "id": "84abe338",
   "metadata": {},
   "outputs": [],
   "source": [
    "\"\"\"\n",
    " * INPUT:\n",
    "     - \"filename\" - string with name of the csv file where data will be written to;\n",
    "     - \"_MY_API_KEY\" - string with my API key needed for API calls;\n",
    "     - \"timespan\" - integer representing amount of seconds for how long the data will be collected;\n",
    "     - \"time_delta_for_buses\" - maximum age (in seconds) of the bus GPS data to be considered valid;\n",
    "     - \"update_interval\" - time (in seconds) between each data import from the Warsaw Open Data API.\n",
    " * FUNCTION: Gather live bus GPS data using API calls and save it to csv file (with header).\n",
    " * OUTPUT: None; function has side effect of creating csv file with bus GPS data.\n",
    "\"\"\"\n",
    "def import_bus_gps_data(filename, _MY_API_KEY, timespan, time_delta_for_buses, update_interval):\n",
    "    ztm = warsaw_data_api.ztm(apikey=_MY_API_KEY)  # Pass API key\n",
    "    start_time = time.time()\n",
    "\n",
    "    print(\"Starting the data import at\", datetime.datetime.now())\n",
    "    print(\"Expected to end the data import at\", datetime.datetime.now() + datetime.timedelta(seconds=timespan))\n",
    "\n",
    "    with open(filename, 'w', newline='') as file:\n",
    "        writer = csv.writer(file)\n",
    "        writer.writerow([\"lines\", \"latitude\", \"longitude\", \"time\", \"brigade\", \"vehicle_number\"])  # write header\n",
    "\n",
    "    while True:\n",
    "        try:\n",
    "            buses_all = ztm.get_buses_location()\n",
    "            with open(filename, 'a', newline='') as file:\n",
    "                writer = csv.writer(file)\n",
    "                for bus in buses_all:\n",
    "                    now = datetime.datetime.now()\n",
    "                    time_diff = now - bus.time\n",
    "\n",
    "                    # We want to gather data that is current, so we only collect location data\n",
    "                    # that is at most 1 min old\n",
    "                    if time_diff.seconds < time_delta_for_buses:\n",
    "                        writer.writerow([bus.lines, bus.location.latitude, bus.location.longitude,\n",
    "                                         bus.time.time(), bus.brigade, bus.vehicle_number])\n",
    "            time.sleep(update_interval)  # wait for 1 minute between updates\n",
    "            if time.time() - start_time > timespan:  # If timespan have passed, break the loop\n",
    "                break\n",
    "        except Exception:  # If an error occurs, ignore it and try again\n",
    "            continue\n",
    "            \n",
    "\n",
    "# Example of usage:\n",
    "filename = \"Buses_location_afternoon.csv\" # Where GPS data will be saved\n",
    "_MY_API_KEY = \"2620c061-1099-44d9-baab-fdc3a772ab29\"  # My API key\n",
    "\n",
    "timespan = 3600  # 60 minutes\n",
    "time_delta_for_buses = 60  # 1 minute\n",
    "update_interval = 60  # 1 minute\n",
    "\n",
    "import_bus_gps_data(filename, _MY_API_KEY, timespan, time_delta_for_buses, update_interval)"
   ]
  },
  {
   "cell_type": "markdown",
   "id": "f34866da",
   "metadata": {},
   "source": [
    "# Pobranie danych o przystankach autobusowych\n",
    "\n",
    "Po pobraniu pliku JSON ze strony API dokonujemy konwersji danych do formatu pandas DataFrame."
   ]
  },
  {
   "cell_type": "code",
   "execution_count": 33,
   "id": "4e15233b",
   "metadata": {},
   "outputs": [],
   "source": [
    "\"\"\"\n",
    " * INPUT:\n",
    "    - \"json_filename\" - name of the JSON file containing bus stop data\n",
    " * FUNCTION: This function reads a JSON file containing bus stop data, extracts the necessary information, and\n",
    "    transforms it into a pandas DataFrame. Renames the remaining columns for clarity.\n",
    " * OUTPUT: Returns a pandas DataFrame containing the bus stop data with columns: \"stop_id\", \"stop_pole\", \"stop_name\",\n",
    "    \"street_id\", \"latitude\", \"longitude\", \"direction\".\n",
    "\"\"\"\n",
    "def extract_bus_stop_data(bus_stop_filename):\n",
    "    json_file = open(bus_stop_filename, \"r\")\n",
    "\n",
    "    # Load the JSON file\n",
    "    json_dict = json.loads(json_file.read())\n",
    "\n",
    "    # Extract the list of dictionaries\n",
    "    dict_list = json_dict['result']\n",
    "\n",
    "    # Convert each dictionary in the list\n",
    "    new_dict_list = []\n",
    "    for d in dict_list:\n",
    "        new_dict = {item['key']: item['value'] for item in d['values']}\n",
    "        new_dict_list.append(new_dict)\n",
    "\n",
    "    # Convert the list of new dictionaries into a DataFrame\n",
    "    bus_stops_table = pd.DataFrame(new_dict_list)\n",
    "\n",
    "    # Drop the last column as it contains no useful information for us (route ID)\n",
    "    last_column = bus_stops_table.columns[-1]\n",
    "    bus_stops_table = bus_stops_table.drop(last_column, axis=1)\n",
    "\n",
    "    # Rename the columns\n",
    "    bus_stops_table.columns = [\"stop_id\", \"stop_pole\", \"stop_name\",\n",
    "                               \"street_id\", \"latitude\", \"longitude\", \"direction\"]\n",
    "\n",
    "    return bus_stops_table"
   ]
  },
  {
   "cell_type": "code",
   "execution_count": 34,
   "id": "6640b6a9",
   "metadata": {},
   "outputs": [],
   "source": [
    "# Example of usage for extract_bus_stop_data():\n",
    "# _BUS_STOPS_JSON_FILENAME = \"bus_stops.json\"\n",
    "# bus_stops_df = extract_bus_stop_data(_BUS_STOPS_JSON_FILENAME)\n",
    "#\n",
    "# print(bus_stops_df.head())\n",
    "# print(bus_stops_df.shape)"
   ]
  },
  {
   "cell_type": "markdown",
   "id": "78bd4e7f",
   "metadata": {},
   "source": [
    "## Tworzymy słownik zawierający zbiór z informacją o trasie każdej z linii\n",
    "\n",
    "Aby uzyskać listę przystanków dla każdej linii autobusowej, tworzymy słownik. Klucze to numery linii, a wartości to listy tupli zawierających komplet informacji o przystanku autobusowym."
   ]
  },
  {
   "cell_type": "code",
   "execution_count": 35,
   "id": "16d64bec",
   "metadata": {},
   "outputs": [],
   "source": [
    "\"\"\"\n",
    " * INPUT:\n",
    "    - \"bus_stops_info\" - a pandas DataFrame containing bus stop data.\n",
    "    - \"ztm\" - an instance of the WarsawDataAPI class, used to make API calls to the Warsaw Open Data API.\n",
    " * FUNCTION: Iterates over each row in the \"bus_stops_info\", and for each bus stop, it retrieves the bus lines that stop\n",
    "    there using the WarsawDataAPI. It then stores this information in a dictionary.\n",
    " * OUTPUT: Returns a dictionary where the keys are bus lines and the values are sets of tuples, each tuple representing\n",
    "    a bus stop and containing the same data as a row in the \"bus_stops_info\" DataFrame.\n",
    "\"\"\"\n",
    "def create_dict_matching_bus_stops_to_lines(bus_stops_info, ztm):\n",
    "    bus_line_stops_dict = {}\n",
    "    for _, row in bus_stops_info.iterrows():\n",
    "        stop_id = row['stop_id']\n",
    "        stop_pole = row['stop_pole']\n",
    "        stop_info = tuple(row.values)\n",
    "        bus_lines = ztm.get_lines_for_bus_stop_id(stop_id, stop_pole)\n",
    "\n",
    "        for bus_line in bus_lines:\n",
    "            if bus_line not in bus_line_stops_dict:\n",
    "                bus_line_stops_dict[bus_line] = set()\n",
    "            bus_line_stops_dict[bus_line].add(stop_info)\n",
    "\n",
    "    return bus_line_stops_dict"
   ]
  },
  {
   "cell_type": "code",
   "execution_count": 36,
   "id": "0e521766",
   "metadata": {},
   "outputs": [],
   "source": [
    "# Example of usage for create_dict_matching_bus_stops_to_lines():\n",
    "# (!) First we have to run the extract_bus_stop_data() function to get the bus_stops_df DataFrame (!)\n",
    "# _MY_API_KEY = \"2620c061-1099-44d9-baab-fdc3a772ab29\"  # My api key\n",
    "# _ZTM = warsaw_data_api.ztm(apikey=_MY_API_KEY)  # Pass api key\n",
    "# bus_line_stops = create_dict_matching_bus_stops_to_lines(bus_stops_df, _ZTM)\n",
    "#\n",
    "# print(bus_line_stops['504'])"
   ]
  }
 ],
 "metadata": {
  "kernelspec": {
   "display_name": "Python 3 (ipykernel)",
   "language": "python",
   "name": "python3"
  },
  "language_info": {
   "codemirror_mode": {
    "name": "ipython",
    "version": 3
   },
   "file_extension": ".py",
   "mimetype": "text/x-python",
   "name": "python",
   "nbconvert_exporter": "python",
   "pygments_lexer": "ipython3",
   "version": "3.10.12"
  }
 },
 "nbformat": 4,
 "nbformat_minor": 5
}
