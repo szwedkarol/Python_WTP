{
 "cells": [
  {
   "cell_type": "markdown",
   "id": "edb9f3e1",
   "metadata": {},
   "source": [
    "Autor: Karol Szwed\\\n",
    "Data: 17.02.2023 r.\\\n",
    "Projekt: Końcowe zadanie zaliczeniowe - analiza danych z użyciem API dla ZTM w Warszawie"
   ]
  },
  {
   "cell_type": "markdown",
   "id": "b182159c",
   "metadata": {},
   "source": [
    "# Cel projektu\n",
    "\n",
    "TODO: Opisać"
   ]
  },
  {
   "cell_type": "markdown",
   "id": "f5e4b1c6",
   "metadata": {},
   "source": [
    "# Pobranie danych GPS dla autobusów\n",
    "\n",
    "TODO: Opisać"
   ]
  },
  {
   "cell_type": "code",
   "execution_count": null,
   "id": "84abe338",
   "metadata": {},
   "outputs": [],
   "source": [
    "import warsaw_data_api\n",
    "import datetime\n",
    "import csv\n",
    "import time\n",
    "\n",
    "filename = \"Buses_location_afternoon.csv\"\n",
    "_MY_API_KEY = \"2620c061-1099-44d9-baab-fdc3a772ab29\"  # my api key\n",
    "ztm = warsaw_data_api.ztm(apikey=_MY_API_KEY)  # pass api key\n",
    "\n",
    "start_time = time.time()\n",
    "\n",
    "timespan = 3600  # 60 minutes\n",
    "time_delta_for_buses = 60  # 1 minute\n",
    "update_interval = 60  # 1 minute\n",
    "\n",
    "print(\"Starting the data import at\", datetime.datetime.now())\n",
    "print(\"Expected to end the data import at\", datetime.datetime.now() + datetime.timedelta(seconds=timespan))\n",
    "\n",
    "with open(filename, 'w', newline='') as file:\n",
    "    writer = csv.writer(file)\n",
    "    writer.writerow([\"lines\", \"latitude\", \"longitude\", \"time\", \"brigade\", \"vehicle_number\"])  # write header\n",
    "\n",
    "while True:\n",
    "    try:\n",
    "        buses_all = ztm.get_buses_location()\n",
    "        with open(filename, 'a', newline='') as file:\n",
    "            writer = csv.writer(file)\n",
    "            for bus in buses_all:\n",
    "                now = datetime.datetime.now()\n",
    "                time_diff = now - bus.time\n",
    "                \n",
    "                # We want to gather data that is current, so we only collect location data\n",
    "                # that is at most 1 min old\n",
    "                if time_diff.seconds < time_delta_for_buses:\n",
    "                    writer.writerow([bus.lines, bus.location.latitude, bus.location.longitude,\n",
    "                                     bus.time.time(), bus.brigade, bus.vehicle_number])\n",
    "        time.sleep(update_interval)  # wait for 1 minute between updates\n",
    "        if time.time() - start_time > timespan:  # If timespan have passed, break the loop\n",
    "            break\n",
    "    except Exception:  # If an error occurs, ignore it and try again\n",
    "        continue"
   ]
  },
  {
   "cell_type": "markdown",
   "id": "f34866da",
   "metadata": {},
   "source": [
    "# Pobranie danych o przystankach autobusowych\n",
    "\n",
    "TODO: Opisać"
   ]
  },
  {
   "cell_type": "code",
   "execution_count": 1,
   "id": "4e15233b",
   "metadata": {},
   "outputs": [
    {
     "name": "stdout",
     "output_type": "stream",
     "text": [
      "  stop_id stop_pole stop_name street_id   latitude  longitude       direction\n",
      "0    1001        01  Kijowska      2201  52.248455  21.044827  al.Zieleniecka\n",
      "1    1001        02  Kijowska      2201  52.249078  21.044443       Ząbkowska\n",
      "2    1001        03  Kijowska      2201  52.248928  21.044169  al.Zieleniecka\n",
      "3    1001        04  Kijowska      2201  52.249969  21.041588       Ząbkowska\n",
      "4    1001        05  Kijowska      1203  52.250319  21.043861  al.Zieleniecka\n",
      "(7058, 7)\n"
     ]
    }
   ],
   "source": [
    "import json\n",
    "import pandas as pd\n",
    "import warsaw_data_api\n",
    "import csv\n",
    "\n",
    "file_json = open(\"bus_stops.json\", \"r\")\n",
    "json_dict = json.loads(file_json.read())\n",
    "\n",
    "# Extract the list of dictionaries\n",
    "dict_list = json_dict['result']\n",
    "\n",
    "# Convert each dictionary in the list\n",
    "new_dict_list = []\n",
    "for d in dict_list:\n",
    "    new_dict = {item['key']: item['value'] for item in d['values']}\n",
    "    new_dict_list.append(new_dict)\n",
    "\n",
    "# Convert the list of new dictionaries into a DataFrame\n",
    "bus_stops_table = pd.DataFrame(new_dict_list)\n",
    "\n",
    "# Drop the last column\n",
    "last_column = bus_stops_table.columns[-1]\n",
    "bus_stops_table = bus_stops_table.drop(last_column, axis=1)\n",
    "\n",
    "# Rename the columns\n",
    "bus_stops_table.columns = [\"stop_id\", \"stop_pole\", \"stop_name\",\n",
    "                           \"street_id\", \"latitude\", \"longitude\", \"direction\"]\n",
    "\n",
    "print(bus_stops_table.head())\n",
    "print(bus_stops_table.shape)"
   ]
  },
  {
   "cell_type": "markdown",
   "id": "78bd4e7f",
   "metadata": {},
   "source": [
    "## Tworzymy słownik zawierający zbiór informację o trasie każdej z linii\n",
    "\n",
    "Todo: opis"
   ]
  },
  {
   "cell_type": "code",
   "execution_count": 3,
   "id": "16d64bec",
   "metadata": {},
   "outputs": [
    {
     "name": "stdout",
     "output_type": "stream",
     "text": [
      "('1055', '01', 'Gorzykowska', '1909', '52.268593', '21.060081', 'Piotra Skargi')\n",
      "['120', '160', '190', 'N02', 'N11', 'N61']\n",
      "('1129', '01', 'Bruszewska', '1839', '52.327496', '21.028882', 'Zakłady Zbożowe')\n",
      "['326', '705', '735', '736']\n",
      "('1209', '02', 'Powstańców', '1757', '52.277575', '21.115400', 'Czapelska')\n",
      "['145']\n",
      "('1296', '01', 'Mochtyńska', '2960', '52.357728', '21.035482', 'Płochocińska')\n",
      "['326', 'N14']\n",
      "('1407', '02', 'Wenecka', '0137', '52.356885', '21.133208', 'Struga')\n",
      "['140', '738', 'L40', 'L45', 'N61']\n",
      "('1530', '01', 'Januszewicza', '1799', '52.314983', '21.178599', 'Szymańskiego')\n",
      "['L27']\n",
      "('1749', '03', 'Piłsudskiego-Kościół', '1757', '52.350916', '21.230183', 'Lipowa')\n",
      "['L36']\n",
      "('1864', '01', 'Andersena', '0926', '52.282917', '21.139519', 'Powstańców')\n",
      "['199']\n",
      "('2006', '03', 'Międzyborska', '0802', '52.245864', '21.075239', 'Praga-Płd.-Ratusz')\n",
      "['3', '6', '9', '22', '24', '26']\n",
      "('2069', '01', 'Pocisk', '1515', '52.252753', '21.151553', 'Marsa-Las')\n",
      "['183', 'N21']\n",
      "('2143', '01', 'Afrykańska', '0128', '52.225088', '21.072306', 'Wał Gocławski')\n",
      "['111', '117', '123', '147', '411', '507', '509', 'E-1', 'N02', 'N22', 'N72']\n",
      "('2232', '04', 'Okrzei', '1728', '52.105743', '21.246199', 'Mazurska')\n",
      "['702']\n",
      "('2342', '01', 'Projektowana', '0926', '52.164325', '21.315855', 'Pęclińska')\n",
      "['720']\n",
      "('2466', '01', 'Legionów', '1321', '52.248977', '21.271300', 'PKP Sulejówek')\n",
      "['L48']\n",
      "('3003', '06', 'Dworkowa', '1801', '52.205229', '21.022896', 'Rakowiecka')\n",
      "['4', '10', '15', '18', '26', '35']\n",
      "('3061', '02', 'Pl.Bernardyński', '0326', '52.194802', '21.054680', 'al.Witosa')\n",
      "['107', '131', '159', '162', '180', '185', '187', 'N33', 'N83']\n",
      "('3137', '02', 'Magellana', '0316', '52.155217', '21.040964', 'Ursynów Płd.')\n",
      "['192', '193']\n",
      "('3225', '01', 'Chyliczki', '2543', '52.084449', '21.063971', '--------- PIASECZNO ----------')\n",
      "['724', 'L32', 'L52']\n",
      "('3299', '03', 'Szpital Południowy', '1005', '52.146118', '21.038225', 'Miklaszewskiego')\n",
      "['148', '179', '185', '192', '263', '319']\n",
      "('3412', '01', 'Park Postępu', '0513', '52.183200', '20.998941', 'Wołoska')\n",
      "['218']\n",
      "('3752', '01', 'Łbiska', '0231', '52.023855', '21.002932', '----- GROCHOWA-PĘCHERY -------')\n",
      "['L17', 'L52']\n",
      "('3865', '01', 'Kazimierzowska', '0328', '52.076477', '21.098448', 'Długa')\n",
      "['L24']\n",
      "('4012', '02', 'Krakowiaków', '0112', '52.185296', '20.953468', 'Instytut Lotnictwa')\n",
      "['141', '154', '317', 'N38', 'N88']\n",
      "('4089', '02', 'WKD Raków', '1403', '52.194523', '20.936107', 'Al.Jerozolimskie')\n",
      "['189', '401']\n",
      "('4197', '03', 'Ołówkowa', '1864', '52.159810', '20.792450', 'al.Wojska Polskiego')\n",
      "['817', 'N85']\n",
      "('4310', '02', 'Harfowa', '2576', '52.201696', '20.964648', 'Przy Parku')\n",
      "['208']\n",
      "('5012', '07', 'Ciepłownia Wola', '1806', '52.220913', '20.918473', 'Połczyńska-parking P+R')\n",
      "['76']\n",
      "('5067', '03', 'Pl.Pole Elekcyjne', '1702', '52.244424', '20.965912', 'Długosza')\n",
      "['9', '20', '22', '23', '24', '28', '35', '76']\n",
      "('5159', '03', 'Powązkowska', '1703', '52.252926', '20.981155', 'rondo \"Radosława\"')\n",
      "['1', '6', '22', '28', '35', '73']\n",
      "('6011', '04', 'UKSW', '1505', '52.290463', '20.949927', 'Przy Agorze')\n",
      "['1', '4', '6', '15', '17', '18']\n",
      "('6068', '01', 'Palisadowa', '1710', '52.294713', '20.904955', 'Wólczyńska')\n",
      "['250']\n",
      "('6159', '01', 'Wiosenna', '2063', '52.260690', '20.685922', 'Zaborów-Szkoła')\n",
      "['719', '729']\n",
      "('6673', '01', 'Dworska', '2521', '52.372331', '20.666360', 'Szkoła')\n",
      "['850']\n",
      "('7026', '02', 'pl.Teatralny', '0014', '52.244091', '21.008887', 'pl.Bankowy')\n",
      "['111', '222']\n",
      "('7091', '06', 'rondo \"Radosława\"', '0110', '52.254053', '20.983058', 'Słomińskiego')\n",
      "['17', '33', '35']\n",
      "{('3250', '02', 'Postępu', '1506', '52.179713', '20.995463', 'PKP Służewiec'), ('4029', '01', 'Pomnik Lotnika', '2802', '52.215562', '20.988137', 'Banacha-Szpital'), ('3403', '02', 'Warchałowskiego', '0510', '52.145531', '21.043507', 'Miklaszewskiego'), ('3282', '02', 'Metro Kabaty', '0113', '52.130762', '21.066167', 'os.Kabaty'), ('4001', '15', 'pl.Zawiszy', '1910', '52.224067', '20.989348', 'Koszykowa'), ('7002', '29', 'Dw.Centralny', '3541', '52.229286', '21.003772', 'Emilii Plater'), ('3245', '02', 'Gotarda', '1913', '52.172208', '21.004566', 'Cybernetyki'), ('3140', '02', 'Stryjeńskich', '0510', '52.143026', '21.044415', 'Warchałowskiego'), ('3139', '02', 'Miklaszewskiego', '0510', '52.148278', '21.041692', 'Malinowskiego'), ('3195', '02', 'os.Wyżyny', '2005', '52.137975', '21.049090', 'Płaskowickiej'), ('4037', '02', 'Sasanki', '2802', '52.184076', '20.979223', 'Leżajska'), ('3140', '01', 'Stryjeńskich', '2005', '52.141620', '21.045460', 'Belgradzka'), ('3400', '01', 'os.Kabaty', '0113', '52.128946', '21.068699', 'Wąwozowa'), ('3013', '03', 'Poleczki', '0703', '52.152410', '21.019240', 'Herbsta'), ('3284', '01', 'Rybałtów', '2005', '52.131677', '21.055935', 'Małej Łąki'), ('3301', '02', 'Malinowskiego', '0510', '52.150181', '21.037497', 'Ciszewskiego'), ('3195', '04', 'os.Wyżyny', '2005', '52.137000', '21.049703', 'Małej Łąki'), ('3134', '01', 'Centrum Onkologii', '0316', '52.150099', '21.033733', 'Dereniowa'), ('3243', '06', 'rondo Unii Europejskiej', '1205', '52.179055', '21.002602', 'Domaniewska'), ('3139', '01', 'Miklaszewskiego', '0510', '52.147220', '21.042800', 'Warchałowskiego'), ('4029', '02', 'Pomnik Lotnika', '1225', '52.216947', '20.990310', 'Filtrowa'), ('3283', '01', 'Mielczarskiego', '2553', '52.131232', '21.059360', 'Rybałtów'), ('3245', '01', 'Gotarda', '1913', '52.171229', '21.005798', 'Bartłomieja'), ('4033', '01', 'Rakowiec', '2802', '52.197917', '20.983413', 'Baleya'), ('3203', '04', 'Małej Łąki', '2005', '52.133504', '21.054056', 'Rybałtów'), ('4035', '02', 'Novotel', '2802', '52.190923', '20.981564', 'Baleya'), ('R-07', '99', 'ZEA WORONICZA', '2513', '52.188525', '20.996275', 'ZEA WORONICZA'), ('4031', '02', 'Uniwersytet Medyczny', '2802', '52.204780', '20.986330', 'Banacha-Szpital'), ('4037', '03', 'Sasanki', '2019', '52.182977', '20.979998', 'PKP Służewiec'), ('3203', '01', 'Małej Łąki', '2005', '52.134517', '21.052970', 'Belgradzka'), ('3254', '02', 'PKP Służewiec', '2019', '52.181703', '20.986900', 'Żwirki i Wigury'), ('4030', '02', 'Banacha-Szpital', '2802', '52.210978', '20.988402', 'Wawelska'), ('4030', '01', 'Banacha-Szpital', '2802', '52.209624', '20.987418', 'Uniwersytet Medyczny'), ('3243', '05', 'rondo Unii Europejskiej', '1913', '52.176779', '21.002181', 'Cybernetyki'), ('R-07', '00', 'ZEA WORONICZA', '2513', '52.188509', '20.996198', 'Woronicza'), ('3301', '01', 'Malinowskiego', '0510', '52.149862', '21.038194', 'Indiry Gandhi'), ('4035', '01', 'Novotel', '2802', '52.190711', '20.980990', 'Leżajska'), ('3013', '02', 'Poleczki', '1801', '52.154080', '21.017960', 'Wyścigi'), ('3134', '04', 'Centrum Onkologii', '0703', '52.149980', '21.031813', 'Herbsta'), ('3282', '04', 'Metro Kabaty', '2553', '52.131281', '21.064910', 'Mielczarskiego'), ('3254', '01', 'PKP Służewiec', '2019', '52.181179', '20.986991', 'Postępu'), ('3251', '03', 'Wynalazek', '1506', '52.179458', '20.995531', 'Postępu'), ('4031', '01', 'Uniwersytet Medyczny', '2802', '52.204773', '20.985773', 'Pruszkowska'), ('3284', '02', 'Rybałtów', '2553', '52.131177', '21.056685', 'Mielczarskiego'), ('4033', '02', 'Rakowiec', '2802', '52.198991', '20.984341', 'Pruszkowska'), ('7002', '02', 'Dw.Centralny', '0101', '52.228223', '21.003378', 'al.Jana Pawła II'), ('3403', '01', 'Warchałowskiego', '0510', '52.144223', '21.043705', 'Stryjeńskich'), ('3283', '02', 'Mielczarskiego', '2553', '52.131146', '21.061376', 'Metro Kabaty'), ('3250', '01', 'Postępu', '1506', '52.178861', '20.998383', 'rondo Unii Europejskiej'), ('3243', '02', 'rondo Unii Europejskiej', '1506', '52.178515', '21.000836', 'Postępu'), ('4001', '03', 'pl.Zawiszy', '0101', '52.225006', '20.990644', 'pl.Starynkiewicza'), ('3400', '04', 'os.Kabaty', '0113', '52.129226', '21.068250', 'Wąwozowa')}\n"
     ]
    }
   ],
   "source": [
    "_MY_API_KEY = \"2620c061-1099-44d9-baab-fdc3a772ab29\"  # my api key\n",
    "ztm = warsaw_data_api.ztm(apikey=_MY_API_KEY)  # pass api key\n",
    "\n",
    "bus_line_stops = {}\n",
    "every_200th = 0 # For printing every 200th entry\n",
    "for index, row in bus_stops_table.iterrows():\n",
    "    every_200th += 1\n",
    "    stop_id = row['stop_id']\n",
    "    stop_pole = row['stop_pole']\n",
    "    stop_info = tuple(row.values)\n",
    "    bus_lines = ztm.get_lines_for_bus_stop_id(stop_id, stop_pole)\n",
    "\n",
    "    if every_200th == 200:\n",
    "        print(stop_info)\n",
    "        print(bus_lines)\n",
    "        every_200th = 0\n",
    "\n",
    "    for bus_line in bus_lines:\n",
    "        if bus_line not in bus_line_stops:\n",
    "            bus_line_stops[bus_line] = set()\n",
    "        bus_line_stops[bus_line].add(stop_info)\n",
    "\n",
    "print(bus_line_stops['504'])"
   ]
  },
  {
   "cell_type": "code",
   "execution_count": 4,
   "id": "ea1a7874",
   "metadata": {},
   "outputs": [],
   "source": [
    "# Write the table as a pickle file\n",
    "import pickle\n",
    "with open('bus_line_stops.pkl', 'wb') as f:\n",
    "    pickle.dump(bus_line_stops, f)"
   ]
  },
  {
   "cell_type": "code",
   "execution_count": 6,
   "id": "2154bf75",
   "metadata": {},
   "outputs": [
    {
     "name": "stdout",
     "output_type": "stream",
     "text": [
      "{('5050', '01', 'os.Górczewska', '1303', '52.238926', '20.896240', 'Człuchowska'), ('R-11', '00', 'ZEA KLESZCZOWA', '1221', '52.196412', '20.922925', 'Łopuszańska'), ('4049', '04', 'Łopuszańska', '1403', '52.196192', '20.926955', 'Zajezdnia Kleszczowa'), ('4091', '01', 'Dojazdowa', '1220', '52.198162', '20.920010', 'Zajezdnia Kleszczowa'), ('5057', '01', 'Synów Pułku', '1807', '52.224670', '20.916363', 'Połczyńska'), ('3033', '55', 'św.Bonifacego', '2103', '52.182450', '21.056840', 'Sobieskiego'), ('3097', '02', 'Noskowskiego', '1608', '52.172782', '21.038712', 'Wałbrzyska'), ('4212', '01', 'Parowcowa', '0509', '52.211792', '20.913640', 'Wałowicka'), ('5049', '02', 'Szobera', '1303', '52.236967', '20.896700', 'os.Górczewska'), ('4037', '04', 'Sasanki', '0901', '52.184058', '20.977725', 'Radarowa'), ('4092', '03', 'Ryżowa', '1220', '52.199564', '20.914849', 'Dojazdowa'), ('3092', '02', 'Klarysewska', '2103', '52.184620', '21.060277', 'Sobieskiego'), ('5048', '01', 'Batalionów Chłopskich', '1303', '52.231065', '20.896684', 'Człuchowska'), ('4090', '04', 'Zajezdnia Kleszczowa', '1221', '52.196626', '20.923424', '______________________________'), ('5047', '02', 'Człuchowska', '1303', '52.228270', '20.897144', 'os.Górczewska'), ('3248', '02', 'Bełdan', '0114', '52.174547', '21.011326', 'Instytut Fizyki'), ('5057', '02', 'Synów Pułku', '1807', '52.225596', '20.916541', 'Hala Wola'), ('5012', '03', 'Ciepłownia Wola', '1807', '52.221288', '20.916997', 'Synów Pułku'), ('3243', '01', 'rondo Unii Europejskiej', '0125', '52.177868', '21.003850', 'Instytut Fizyki'), ('3092', '01', 'Klarysewska', '2103', '52.184820', '21.060860', 'Goraszewska'), ('5058', '01', 'Hala Wola', '1807', '52.228435', '20.915318', 'Synów Pułku'), ('5012', '06', 'Ciepłownia Wola', '0509', '52.219379', '20.916010', 'Wałowicka'), ('4214', '01', 'PKP Włochy', '0231', '52.205261', '20.915649', 'Ryżowa'), ('4085', '01', 'Radarowa', '0901', '52.188116', '20.964077', 'Astronautów'), ('3249', '02', 'Instytut Fizyki', '0125', '52.178057', '21.006215', 'rondo Unii Europejskiej'), ('3094', '02', 'Stegny', '2103', '52.177661', '21.047312', 'al.Sikorskiego'), ('4090', '02', 'Zajezdnia Kleszczowa', '1220', '52.197292', '20.923467', 'Dojazdowa'), ('3098', '02', 'Nowoursynowska', '0516', '52.170990', '21.041860', 'al.Wilanowska'), ('3096', '02', 'Wróbla', '2515', '52.173513', '21.030723', 'al.KEN'), ('3279', '04', 'Metro Służew', '1922', '52.173870', '21.026334', 'al.Wilanowska'), ('5048', '02', 'Batalionów Chłopskich', '1303', '52.232260', '20.896941', 'os.Górczewska'), ('3064', '01', 'Goraszewska', '1859', '52.185968', '21.064485', 'Sadyba'), ('3251', '03', 'Wynalazek', '1506', '52.179458', '20.995531', 'Postępu'), ('3243', '02', 'rondo Unii Europejskiej', '1506', '52.178515', '21.000836', 'Postępu'), ('4212', '02', 'Parowcowa', '0509', '52.212330', '20.913890', 'Połczyńska'), ('3065', '02', 'Sadyba', '1859', '52.182764', '21.068458', 'Goraszewska'), ('3011', '05', 'al.Lotników', '2515', '52.173072', '21.020948', 'Metro Służew'), ('4089', '02', 'WKD Raków', '1403', '52.194523', '20.936107', 'Al.Jerozolimskie'), ('4089', '01', 'WKD Raków', '1403', '52.194350', '20.936086', 'al.Krakowska'), ('4011', '06', 'Hynka', '1403', '52.190608', '20.957315', 'Orzechowa'), ('4213', '01', 'Wałowicka', '0809', '52.208744', '20.913925', 'PKP Włochy'), ('5047', '03', 'Człuchowska', '0305', '52.227548', '20.897879', 'Rozłogi'), ('5109', '02', 'Rozłogi', '0305', '52.227939', '20.900427', 'Lazurowa'), ('3248', '01', 'Bełdan', '0114', '52.174184', '21.013580', 'Puławska'), ('4091', '02', 'Dojazdowa', '1220', '52.198656', '20.918372', 'Ryżowa'), ('5108', '02', 'Raginisa', '0305', '52.228452', '20.906350', 'Lazurowa'), ('3033', '03', 'św.Bonifacego', '2103', '52.182234', '21.056775', 'Klarysewska'), ('3243', '06', 'rondo Unii Europejskiej', '1205', '52.179055', '21.002602', 'Domaniewska'), ('3094', '01', 'Stegny', '2103', '52.177748', '21.048756', 'Batumi'), ('4092', '02', 'Ryżowa', '0231', '52.200197', '20.914527', 'PKP Włochy'), ('3098', '05', 'Nowoursynowska', '1608', '52.171312', '21.040335', 'Noskowskiego'), ('3279', '02', 'Metro Służew', '2515', '52.173473', '21.025360', 'Puławska'), ('5058', '04', 'Hala Wola', '0305', '52.229061', '20.914566', 'Lazurowa'), ('3039', '01', 'Dolina Służewiecka', '0516', '52.174554', '21.043769', 'Nowoursynowska'), ('4087', '02', 'Orzechowa', '1403', '52.192147', '20.949007', 'Al.Jerozolimskie'), ('R-07', '99', 'ZEA WORONICZA', '2513', '52.188525', '20.996275', 'ZEA WORONICZA'), ('4087', '01', 'Orzechowa', '1403', '52.191881', '20.949257', 'al.Krakowska'), ('3097', '01', 'Noskowskiego', '1608', '52.172518', '21.039034', 'Dolina Służewiecka'), ('3096', '01', 'Wróbla', '2515', '52.173408', '21.029580', 'Nowoursynowska'), ('3337', '01', 'Wałbrzyska-Cmentarz', '2515', '52.173472', '21.035863', 'Nowoursynowska'), ('3093', '02', 'Batumi', '2103', '52.179618', '21.052407', 'Stegny'), ('3279', '01', 'Metro Służew', '2515', '52.173342', '21.026892', 'Wróbla'), ('4088', '02', 'Przedpole', '1403', '52.193449', '20.942085', 'Al.Jerozolimskie'), ('3254', '01', 'PKP Służewiec', '2019', '52.181179', '20.986991', 'Postępu'), ('3250', '01', 'Postępu', '1506', '52.178861', '20.998383', 'rondo Unii Europejskiej'), ('3039', '02', 'Dolina Służewiecka', '0121', '52.175922', '21.044629', 'św.Bonifacego'), ('3250', '02', 'Postępu', '1506', '52.179713', '20.995463', 'PKP Służewiec'), ('3093', '01', 'Batumi', '2103', '52.180312', '21.053751', 'Sobieskiego'), ('5109', '01', 'Rozłogi', '0305', '52.227893', '20.901789', 'Powstańców Śląskich'), ('4090', '01', 'Zajezdnia Kleszczowa', '1403', '52.196522', '20.924876', 'al.Krakowska'), ('5108', '01', 'Raginisa', '0305', '52.228363', '20.908157', 'Powstańców Śląskich'), ('5050', '71', 'os.Górczewska', '0805', '52.239094', '20.901168', '______________________________'), ('3011', '06', 'al.Lotników', '0114', '52.173551', '21.018959', 'Bełdan'), ('3065', '05', 'Sadyba', '1859', '52.181370', '21.068980', 'Goraszewska'), ('4084', '01', 'Astronautów', '0901', '52.184561', '20.974970', 'Żwirki i Wigury'), ('5049', '01', 'Szobera', '1303', '52.235187', '20.896473', 'Człuchowska'), ('4049', '03', 'Łopuszańska', '1403', '52.195435', '20.929711', 'WKD Raków'), ('4213', '02', 'Wałowicka', '0809', '52.208603', '20.914274', 'Parowcowa'), ('3249', '01', 'Instytut Fizyki', '0114', '52.177441', '21.007249', 'Bełdan'), ('5050', '03', 'os.Górczewska', '0805', '52.239411', '20.897573', 'Klemensiewicza'), ('4088', '01', 'Przedpole', '1403', '52.192768', '20.944688', 'al.Krakowska'), ('R-11', '99', 'ZEA KLESZCZOWA', '1221', '52.196605', '20.922746', 'ZEA KLESZCZOWA'), ('4037', '03', 'Sasanki', '2019', '52.182977', '20.979998', 'PKP Służewiec'), ('3254', '02', 'PKP Służewiec', '2019', '52.181703', '20.986900', 'Żwirki i Wigury'), ('R-07', '00', 'ZEA WORONICZA', '2513', '52.188509', '20.996198', 'Woronicza'), ('3065', '03', 'Sadyba', '1859', '52.181311', '21.068822', 'Goraszewska'), ('4011', '05', 'Hynka', '0901', '52.189736', '20.958956', 'Radarowa'), ('4085', '02', 'Radarowa', '0901', '52.188762', '20.962959', 'al.Krakowska'), ('3064', '04', 'Goraszewska', '2103', '52.186141', '21.062652', 'Klarysewska'), ('4214', '02', 'PKP Włochy', '0231', '52.205172', '20.916138', 'Popularna')}\n"
     ]
    }
   ],
   "source": [
    "read_from_pickle_bus_line_stops = None\n",
    "# Read it again\n",
    "with open('bus_line_stops.pkl', 'rb') as f:\n",
    "    read_from_pickle_bus_line_stops = pickle.load(f)\n",
    "    \n",
    "print(read_from_pickle_bus_line_stops['189'])"
   ]
  }
 ],
 "metadata": {
  "kernelspec": {
   "display_name": "Python 3 (ipykernel)",
   "language": "python",
   "name": "python3"
  },
  "language_info": {
   "codemirror_mode": {
    "name": "ipython",
    "version": 3
   },
   "file_extension": ".py",
   "mimetype": "text/x-python",
   "name": "python",
   "nbconvert_exporter": "python",
   "pygments_lexer": "ipython3",
   "version": "3.10.12"
  }
 },
 "nbformat": 4,
 "nbformat_minor": 5
}
