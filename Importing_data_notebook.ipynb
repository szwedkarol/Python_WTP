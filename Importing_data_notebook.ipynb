{
 "cells": [
  {
   "cell_type": "markdown",
   "id": "edb9f3e1",
   "metadata": {},
   "source": [
    "Autor: Karol Szwed\\\n",
    "Data: 17.02.2023 r.\\\n",
    "Projekt: Końcowe zadanie zaliczeniowe - analiza danych z użyciem API dla ZTM w Warszawie"
   ]
  },
  {
   "cell_type": "markdown",
   "id": "b182159c",
   "metadata": {},
   "source": [
    "# Cel projektu\n",
    "\n",
    "TODO: Opisać"
   ]
  },
  {
   "cell_type": "markdown",
   "id": "f5e4b1c6",
   "metadata": {},
   "source": [
    "# Pobranie danych GPS dla autobusów\n",
    "\n",
    "TODO: Opisać"
   ]
  },
  {
   "cell_type": "code",
   "execution_count": null,
   "id": "54825598",
   "metadata": {},
   "outputs": [],
   "source": [
    "# Because we are working with large objects that are collected over long periods of time, let's define two helper\n",
    "# functions that will save those objects as binary files, able to be quickly loaded later."
   ]
  },
  {
   "cell_type": "code",
   "execution_count": 5,
   "id": "64010640",
   "metadata": {},
   "outputs": [],
   "source": [
    "import pickle\n",
    "\n",
    "\"\"\"\n",
    " * INPUT:\n",
    "    - \"pickle_filename\" - string with the name of the pickle file where the object will be saved;\n",
    "    - \"obj_to_save\" - the object that will be saved in the pickle file.\n",
    " * FUNCTION: Save an object to a pickle file.\n",
    " * OUTPUT: None; function has side effect of creating a pickle file with the saved object.\n",
    "\"\"\"\n",
    "def save_obj_as_pickle_file(pickle_filename, obj_to_save):\n",
    "    with open(pickle_filename, 'wb') as f:\n",
    "        pickle.dump(obj_to_save, f)\n",
    "        \n",
    "\n",
    "\"\"\"\n",
    " * INPUT:\n",
    "    - \"pickle_filename\" - string with the name of the pickle file from which the object will be loaded;\n",
    "    - \"obj_to_load\" - the object that will be loaded from the pickle file.\n",
    " * FUNCTION: Load an object from a pickle file.\n",
    " * OUTPUT: The object loaded from the pickle file.\n",
    "\"\"\"\n",
    "def load_obj_from_pickle_file(pickle_filename):\n",
    "    with open(pickle_filename, 'rb') as f:\n",
    "        return pickle.load(f)"
   ]
  },
  {
   "cell_type": "code",
   "execution_count": null,
   "id": "84abe338",
   "metadata": {},
   "outputs": [],
   "source": [
    "import warsaw_data_api\n",
    "import datetime\n",
    "import csv\n",
    "import time\n",
    "\n",
    "\"\"\"\n",
    " * INPUT:\n",
    "     - \"filename\" - string with name of the csv file where data will be written to;\n",
    "     - \"_MY_API_KEY\" - string with my API key needed for API calls;\n",
    "     - \"timespan\" - integer representing amount of seconds for how long the data will be collected;\n",
    "     - \"time_delta_for_buses\" - maximum age (in seconds) of the bus GPS data to be considered valid;\n",
    "     - \"update_interval\" - time (in seconds) between each data import from the Warsaw Open Data API.\n",
    " * FUNCTION: Gather live bus GPS data using API calls and save it to csv file (with header).\n",
    " * OUTPUT: None; function has side effect of creating csv file with bus GPS data.\n",
    "\"\"\"\n",
    "def import_bus_gps_data(filename, _MY_API_KEY, timespan, time_delta_for_buses, update_interval):\n",
    "    ztm = warsaw_data_api.ztm(apikey=_MY_API_KEY)  # Pass API key\n",
    "    start_time = time.time()\n",
    "\n",
    "    print(\"Starting the data import at\", datetime.datetime.now())\n",
    "    print(\"Expected to end the data import at\", datetime.datetime.now() + datetime.timedelta(seconds=timespan))\n",
    "\n",
    "    with open(filename, 'w', newline='') as file:\n",
    "        writer = csv.writer(file)\n",
    "        writer.writerow([\"lines\", \"latitude\", \"longitude\", \"time\", \"brigade\", \"vehicle_number\"])  # write header\n",
    "\n",
    "    while True:\n",
    "        try:\n",
    "            buses_all = ztm.get_buses_location()\n",
    "            with open(filename, 'a', newline='') as file:\n",
    "                writer = csv.writer(file)\n",
    "                for bus in buses_all:\n",
    "                    now = datetime.datetime.now()\n",
    "                    time_diff = now - bus.time\n",
    "\n",
    "                    # We want to gather data that is current, so we only collect location data\n",
    "                    # that is at most 1 min old\n",
    "                    if time_diff.seconds < time_delta_for_buses:\n",
    "                        writer.writerow([bus.lines, bus.location.latitude, bus.location.longitude,\n",
    "                                         bus.time.time(), bus.brigade, bus.vehicle_number])\n",
    "            time.sleep(update_interval)  # wait for 1 minute between updates\n",
    "            if time.time() - start_time > timespan:  # If timespan have passed, break the loop\n",
    "                break\n",
    "        except Exception:  # If an error occurs, ignore it and try again\n",
    "            continue\n",
    "            \n",
    "\n",
    "filename = \"Buses_location_afternoon.csv\" # Where GPS data will be saved\n",
    "_MY_API_KEY = \"2620c061-1099-44d9-baab-fdc3a772ab29\"  # My API key\n",
    "\n",
    "timespan = 3600  # 60 minutes\n",
    "time_delta_for_buses = 60  # 1 minute\n",
    "update_interval = 60  # 1 minute\n",
    "\n",
    "import_bus_gps_data(filename, _MY_API_KEY, timespan, time_delta_for_buses, update_interval)"
   ]
  },
  {
   "cell_type": "markdown",
   "id": "f34866da",
   "metadata": {},
   "source": [
    "# Pobranie danych o przystankach autobusowych\n",
    "\n",
    "TODO: Opisać"
   ]
  },
  {
   "cell_type": "code",
   "execution_count": 1,
   "id": "4e15233b",
   "metadata": {},
   "outputs": [
    {
     "name": "stdout",
     "output_type": "stream",
     "text": [
      "  stop_id stop_pole stop_name street_id   latitude  longitude       direction\n",
      "0    1001        01  Kijowska      2201  52.248455  21.044827  al.Zieleniecka\n",
      "1    1001        02  Kijowska      2201  52.249078  21.044443       Ząbkowska\n",
      "2    1001        03  Kijowska      2201  52.248928  21.044169  al.Zieleniecka\n",
      "3    1001        04  Kijowska      2201  52.249969  21.041588       Ząbkowska\n",
      "4    1001        05  Kijowska      1203  52.250319  21.043861  al.Zieleniecka\n",
      "(7058, 7)\n"
     ]
    }
   ],
   "source": [
    "import json\n",
    "import pandas as pd\n",
    "import warsaw_data_api\n",
    "import csv\n",
    "\n",
    "file_json = open(\"bus_stops.json\", \"r\")\n",
    "json_dict = json.loads(file_json.read())\n",
    "\n",
    "# Extract the list of dictionaries\n",
    "dict_list = json_dict['result']\n",
    "\n",
    "# Convert each dictionary in the list\n",
    "new_dict_list = []\n",
    "for d in dict_list:\n",
    "    new_dict = {item['key']: item['value'] for item in d['values']}\n",
    "    new_dict_list.append(new_dict)\n",
    "\n",
    "# Convert the list of new dictionaries into a DataFrame\n",
    "bus_stops_table = pd.DataFrame(new_dict_list)\n",
    "\n",
    "# Drop the last column\n",
    "last_column = bus_stops_table.columns[-1]\n",
    "bus_stops_table = bus_stops_table.drop(last_column, axis=1)\n",
    "\n",
    "# Rename the columns\n",
    "bus_stops_table.columns = [\"stop_id\", \"stop_pole\", \"stop_name\",\n",
    "                           \"street_id\", \"latitude\", \"longitude\", \"direction\"]\n",
    "\n",
    "print(bus_stops_table.head())\n",
    "print(bus_stops_table.shape)"
   ]
  },
  {
   "cell_type": "markdown",
   "id": "78bd4e7f",
   "metadata": {},
   "source": [
    "## Tworzymy słownik zawierający zbiór informację o trasie każdej z linii\n",
    "\n",
    "Todo: opis"
   ]
  },
  {
   "cell_type": "code",
   "execution_count": 3,
   "id": "16d64bec",
   "metadata": {},
   "outputs": [
    {
     "name": "stdout",
     "output_type": "stream",
     "text": [
      "('1055', '01', 'Gorzykowska', '1909', '52.268593', '21.060081', 'Piotra Skargi')\n",
      "['120', '160', '190', 'N02', 'N11', 'N61']\n",
      "('1129', '01', 'Bruszewska', '1839', '52.327496', '21.028882', 'Zakłady Zbożowe')\n",
      "['326', '705', '735', '736']\n",
      "('1209', '02', 'Powstańców', '1757', '52.277575', '21.115400', 'Czapelska')\n",
      "['145']\n",
      "('1296', '01', 'Mochtyńska', '2960', '52.357728', '21.035482', 'Płochocińska')\n",
      "['326', 'N14']\n",
      "('1407', '02', 'Wenecka', '0137', '52.356885', '21.133208', 'Struga')\n",
      "['140', '738', 'L40', 'L45', 'N61']\n",
      "('1530', '01', 'Januszewicza', '1799', '52.314983', '21.178599', 'Szymańskiego')\n",
      "['L27']\n",
      "('1749', '03', 'Piłsudskiego-Kościół', '1757', '52.350916', '21.230183', 'Lipowa')\n",
      "['L36']\n",
      "('1864', '01', 'Andersena', '0926', '52.282917', '21.139519', 'Powstańców')\n",
      "['199']\n",
      "('2006', '03', 'Międzyborska', '0802', '52.245864', '21.075239', 'Praga-Płd.-Ratusz')\n",
      "['3', '6', '9', '22', '24', '26']\n",
      "('2069', '01', 'Pocisk', '1515', '52.252753', '21.151553', 'Marsa-Las')\n",
      "['183', 'N21']\n",
      "('2143', '01', 'Afrykańska', '0128', '52.225088', '21.072306', 'Wał Gocławski')\n",
      "['111', '117', '123', '147', '411', '507', '509', 'E-1', 'N02', 'N22', 'N72']\n",
      "('2232', '04', 'Okrzei', '1728', '52.105743', '21.246199', 'Mazurska')\n",
      "['702']\n",
      "('2342', '01', 'Projektowana', '0926', '52.164325', '21.315855', 'Pęclińska')\n",
      "['720']\n",
      "('2466', '01', 'Legionów', '1321', '52.248977', '21.271300', 'PKP Sulejówek')\n",
      "['L48']\n",
      "('3003', '06', 'Dworkowa', '1801', '52.205229', '21.022896', 'Rakowiecka')\n",
      "['4', '10', '15', '18', '26', '35']\n",
      "('3061', '02', 'Pl.Bernardyński', '0326', '52.194802', '21.054680', 'al.Witosa')\n",
      "['107', '131', '159', '162', '180', '185', '187', 'N33', 'N83']\n",
      "('3137', '02', 'Magellana', '0316', '52.155217', '21.040964', 'Ursynów Płd.')\n",
      "['192', '193']\n",
      "('3225', '01', 'Chyliczki', '2543', '52.084449', '21.063971', '--------- PIASECZNO ----------')\n",
      "['724', 'L32', 'L52']\n",
      "('3299', '03', 'Szpital Południowy', '1005', '52.146118', '21.038225', 'Miklaszewskiego')\n",
      "['148', '179', '185', '192', '263', '319']\n",
      "('3412', '01', 'Park Postępu', '0513', '52.183200', '20.998941', 'Wołoska')\n",
      "['218']\n",
      "('3752', '01', 'Łbiska', '0231', '52.023855', '21.002932', '----- GROCHOWA-PĘCHERY -------')\n",
      "['L17', 'L52']\n",
      "('3865', '01', 'Kazimierzowska', '0328', '52.076477', '21.098448', 'Długa')\n",
      "['L24']\n",
      "('4012', '02', 'Krakowiaków', '0112', '52.185296', '20.953468', 'Instytut Lotnictwa')\n",
      "['141', '154', '317', 'N38', 'N88']\n",
      "('4089', '02', 'WKD Raków', '1403', '52.194523', '20.936107', 'Al.Jerozolimskie')\n",
      "['189', '401']\n",
      "('4197', '03', 'Ołówkowa', '1864', '52.159810', '20.792450', 'al.Wojska Polskiego')\n",
      "['817', 'N85']\n",
      "('4310', '02', 'Harfowa', '2576', '52.201696', '20.964648', 'Przy Parku')\n",
      "['208']\n",
      "('5012', '07', 'Ciepłownia Wola', '1806', '52.220913', '20.918473', 'Połczyńska-parking P+R')\n",
      "['76']\n",
      "('5067', '03', 'Pl.Pole Elekcyjne', '1702', '52.244424', '20.965912', 'Długosza')\n",
      "['9', '20', '22', '23', '24', '28', '35', '76']\n",
      "('5159', '03', 'Powązkowska', '1703', '52.252926', '20.981155', 'rondo \"Radosława\"')\n",
      "['1', '6', '22', '28', '35', '73']\n",
      "('6011', '04', 'UKSW', '1505', '52.290463', '20.949927', 'Przy Agorze')\n",
      "['1', '4', '6', '15', '17', '18']\n",
      "('6068', '01', 'Palisadowa', '1710', '52.294713', '20.904955', 'Wólczyńska')\n",
      "['250']\n",
      "('6159', '01', 'Wiosenna', '2063', '52.260690', '20.685922', 'Zaborów-Szkoła')\n",
      "['719', '729']\n",
      "('6673', '01', 'Dworska', '2521', '52.372331', '20.666360', 'Szkoła')\n",
      "['850']\n",
      "('7026', '02', 'pl.Teatralny', '0014', '52.244091', '21.008887', 'pl.Bankowy')\n",
      "['111', '222']\n",
      "('7091', '06', 'rondo \"Radosława\"', '0110', '52.254053', '20.983058', 'Słomińskiego')\n",
      "['17', '33', '35']\n",
      "{('3250', '02', 'Postępu', '1506', '52.179713', '20.995463', 'PKP Służewiec'), ('4029', '01', 'Pomnik Lotnika', '2802', '52.215562', '20.988137', 'Banacha-Szpital'), ('3403', '02', 'Warchałowskiego', '0510', '52.145531', '21.043507', 'Miklaszewskiego'), ('3282', '02', 'Metro Kabaty', '0113', '52.130762', '21.066167', 'os.Kabaty'), ('4001', '15', 'pl.Zawiszy', '1910', '52.224067', '20.989348', 'Koszykowa'), ('7002', '29', 'Dw.Centralny', '3541', '52.229286', '21.003772', 'Emilii Plater'), ('3245', '02', 'Gotarda', '1913', '52.172208', '21.004566', 'Cybernetyki'), ('3140', '02', 'Stryjeńskich', '0510', '52.143026', '21.044415', 'Warchałowskiego'), ('3139', '02', 'Miklaszewskiego', '0510', '52.148278', '21.041692', 'Malinowskiego'), ('3195', '02', 'os.Wyżyny', '2005', '52.137975', '21.049090', 'Płaskowickiej'), ('4037', '02', 'Sasanki', '2802', '52.184076', '20.979223', 'Leżajska'), ('3140', '01', 'Stryjeńskich', '2005', '52.141620', '21.045460', 'Belgradzka'), ('3400', '01', 'os.Kabaty', '0113', '52.128946', '21.068699', 'Wąwozowa'), ('3013', '03', 'Poleczki', '0703', '52.152410', '21.019240', 'Herbsta'), ('3284', '01', 'Rybałtów', '2005', '52.131677', '21.055935', 'Małej Łąki'), ('3301', '02', 'Malinowskiego', '0510', '52.150181', '21.037497', 'Ciszewskiego'), ('3195', '04', 'os.Wyżyny', '2005', '52.137000', '21.049703', 'Małej Łąki'), ('3134', '01', 'Centrum Onkologii', '0316', '52.150099', '21.033733', 'Dereniowa'), ('3243', '06', 'rondo Unii Europejskiej', '1205', '52.179055', '21.002602', 'Domaniewska'), ('3139', '01', 'Miklaszewskiego', '0510', '52.147220', '21.042800', 'Warchałowskiego'), ('4029', '02', 'Pomnik Lotnika', '1225', '52.216947', '20.990310', 'Filtrowa'), ('3283', '01', 'Mielczarskiego', '2553', '52.131232', '21.059360', 'Rybałtów'), ('3245', '01', 'Gotarda', '1913', '52.171229', '21.005798', 'Bartłomieja'), ('4033', '01', 'Rakowiec', '2802', '52.197917', '20.983413', 'Baleya'), ('3203', '04', 'Małej Łąki', '2005', '52.133504', '21.054056', 'Rybałtów'), ('4035', '02', 'Novotel', '2802', '52.190923', '20.981564', 'Baleya'), ('R-07', '99', 'ZEA WORONICZA', '2513', '52.188525', '20.996275', 'ZEA WORONICZA'), ('4031', '02', 'Uniwersytet Medyczny', '2802', '52.204780', '20.986330', 'Banacha-Szpital'), ('4037', '03', 'Sasanki', '2019', '52.182977', '20.979998', 'PKP Służewiec'), ('3203', '01', 'Małej Łąki', '2005', '52.134517', '21.052970', 'Belgradzka'), ('3254', '02', 'PKP Służewiec', '2019', '52.181703', '20.986900', 'Żwirki i Wigury'), ('4030', '02', 'Banacha-Szpital', '2802', '52.210978', '20.988402', 'Wawelska'), ('4030', '01', 'Banacha-Szpital', '2802', '52.209624', '20.987418', 'Uniwersytet Medyczny'), ('3243', '05', 'rondo Unii Europejskiej', '1913', '52.176779', '21.002181', 'Cybernetyki'), ('R-07', '00', 'ZEA WORONICZA', '2513', '52.188509', '20.996198', 'Woronicza'), ('3301', '01', 'Malinowskiego', '0510', '52.149862', '21.038194', 'Indiry Gandhi'), ('4035', '01', 'Novotel', '2802', '52.190711', '20.980990', 'Leżajska'), ('3013', '02', 'Poleczki', '1801', '52.154080', '21.017960', 'Wyścigi'), ('3134', '04', 'Centrum Onkologii', '0703', '52.149980', '21.031813', 'Herbsta'), ('3282', '04', 'Metro Kabaty', '2553', '52.131281', '21.064910', 'Mielczarskiego'), ('3254', '01', 'PKP Służewiec', '2019', '52.181179', '20.986991', 'Postępu'), ('3251', '03', 'Wynalazek', '1506', '52.179458', '20.995531', 'Postępu'), ('4031', '01', 'Uniwersytet Medyczny', '2802', '52.204773', '20.985773', 'Pruszkowska'), ('3284', '02', 'Rybałtów', '2553', '52.131177', '21.056685', 'Mielczarskiego'), ('4033', '02', 'Rakowiec', '2802', '52.198991', '20.984341', 'Pruszkowska'), ('7002', '02', 'Dw.Centralny', '0101', '52.228223', '21.003378', 'al.Jana Pawła II'), ('3403', '01', 'Warchałowskiego', '0510', '52.144223', '21.043705', 'Stryjeńskich'), ('3283', '02', 'Mielczarskiego', '2553', '52.131146', '21.061376', 'Metro Kabaty'), ('3250', '01', 'Postępu', '1506', '52.178861', '20.998383', 'rondo Unii Europejskiej'), ('3243', '02', 'rondo Unii Europejskiej', '1506', '52.178515', '21.000836', 'Postępu'), ('4001', '03', 'pl.Zawiszy', '0101', '52.225006', '20.990644', 'pl.Starynkiewicza'), ('3400', '04', 'os.Kabaty', '0113', '52.129226', '21.068250', 'Wąwozowa')}\n"
     ]
    }
   ],
   "source": [
    "_MY_API_KEY = \"2620c061-1099-44d9-baab-fdc3a772ab29\"  # my api key\n",
    "ztm = warsaw_data_api.ztm(apikey=_MY_API_KEY)  # pass api key\n",
    "\n",
    "bus_line_stops = {}\n",
    "every_200th = 0 # For printing every 200th entry\n",
    "for index, row in bus_stops_table.iterrows():\n",
    "    every_200th += 1\n",
    "    stop_id = row['stop_id']\n",
    "    stop_pole = row['stop_pole']\n",
    "    stop_info = tuple(row.values)\n",
    "    bus_lines = ztm.get_lines_for_bus_stop_id(stop_id, stop_pole)\n",
    "\n",
    "    if every_200th == 200:\n",
    "        print(stop_info)\n",
    "        print(bus_lines)\n",
    "        every_200th = 0\n",
    "\n",
    "    for bus_line in bus_lines:\n",
    "        if bus_line not in bus_line_stops:\n",
    "            bus_line_stops[bus_line] = set()\n",
    "        bus_line_stops[bus_line].add(stop_info)\n",
    "\n",
    "print(bus_line_stops['504'])"
   ]
  },
  {
   "cell_type": "code",
   "execution_count": 10,
   "id": "ea1a7874",
   "metadata": {},
   "outputs": [],
   "source": [
    "pickle_filename = 'bus_line_stops.pkl'\n",
    "\n",
    "# Write the table as a pickle file\n",
    "save_obj_as_pickle_file(pickle_filename, bus_line_stops)"
   ]
  },
  {
   "cell_type": "code",
   "execution_count": 12,
   "id": "2154bf75",
   "metadata": {},
   "outputs": [
    {
     "name": "stdout",
     "output_type": "stream",
     "text": [
      "{('4037', '02', 'Sasanki', '2802', '52.184076', '20.979223', 'Leżajska'), ('3134', '04', 'Centrum Onkologii', '0703', '52.149980', '21.031813', 'Herbsta'), ('4031', '02', 'Uniwersytet Medyczny', '2802', '52.204780', '20.986330', 'Banacha-Szpital'), ('3013', '02', 'Poleczki', '1801', '52.154080', '21.017960', 'Wyścigi'), ('4037', '03', 'Sasanki', '2019', '52.182977', '20.979998', 'PKP Służewiec'), ('4035', '02', 'Novotel', '2802', '52.190923', '20.981564', 'Baleya'), ('3403', '02', 'Warchałowskiego', '0510', '52.145531', '21.043507', 'Miklaszewskiego'), ('3195', '02', 'os.Wyżyny', '2005', '52.137975', '21.049090', 'Płaskowickiej'), ('3254', '01', 'PKP Służewiec', '2019', '52.181179', '20.986991', 'Postępu'), ('4029', '02', 'Pomnik Lotnika', '1225', '52.216947', '20.990310', 'Filtrowa'), ('3013', '03', 'Poleczki', '0703', '52.152410', '21.019240', 'Herbsta'), ('3301', '01', 'Malinowskiego', '0510', '52.149862', '21.038194', 'Indiry Gandhi'), ('3254', '02', 'PKP Służewiec', '2019', '52.181703', '20.986900', 'Żwirki i Wigury'), ('R-07', '99', 'ZEA WORONICZA', '2513', '52.188525', '20.996275', 'ZEA WORONICZA'), ('7002', '29', 'Dw.Centralny', '3541', '52.229286', '21.003772', 'Emilii Plater'), ('3284', '02', 'Rybałtów', '2553', '52.131177', '21.056685', 'Mielczarskiego'), ('4033', '02', 'Rakowiec', '2802', '52.198991', '20.984341', 'Pruszkowska'), ('3283', '01', 'Mielczarskiego', '2553', '52.131232', '21.059360', 'Rybałtów'), ('4029', '01', 'Pomnik Lotnika', '2802', '52.215562', '20.988137', 'Banacha-Szpital'), ('3282', '02', 'Metro Kabaty', '0113', '52.130762', '21.066167', 'os.Kabaty'), ('3243', '06', 'rondo Unii Europejskiej', '1205', '52.179055', '21.002602', 'Domaniewska'), ('3139', '02', 'Miklaszewskiego', '0510', '52.148278', '21.041692', 'Malinowskiego'), ('4031', '01', 'Uniwersytet Medyczny', '2802', '52.204773', '20.985773', 'Pruszkowska'), ('3245', '02', 'Gotarda', '1913', '52.172208', '21.004566', 'Cybernetyki'), ('4001', '15', 'pl.Zawiszy', '1910', '52.224067', '20.989348', 'Koszykowa'), ('3140', '01', 'Stryjeńskich', '2005', '52.141620', '21.045460', 'Belgradzka'), ('4001', '03', 'pl.Zawiszy', '0101', '52.225006', '20.990644', 'pl.Starynkiewicza'), ('3251', '03', 'Wynalazek', '1506', '52.179458', '20.995531', 'Postępu'), ('4033', '01', 'Rakowiec', '2802', '52.197917', '20.983413', 'Baleya'), ('R-07', '00', 'ZEA WORONICZA', '2513', '52.188509', '20.996198', 'Woronicza'), ('3400', '04', 'os.Kabaty', '0113', '52.129226', '21.068250', 'Wąwozowa'), ('3140', '02', 'Stryjeńskich', '0510', '52.143026', '21.044415', 'Warchałowskiego'), ('4030', '01', 'Banacha-Szpital', '2802', '52.209624', '20.987418', 'Uniwersytet Medyczny'), ('4035', '01', 'Novotel', '2802', '52.190711', '20.980990', 'Leżajska'), ('3139', '01', 'Miklaszewskiego', '0510', '52.147220', '21.042800', 'Warchałowskiego'), ('3195', '04', 'os.Wyżyny', '2005', '52.137000', '21.049703', 'Małej Łąki'), ('3403', '01', 'Warchałowskiego', '0510', '52.144223', '21.043705', 'Stryjeńskich'), ('3283', '02', 'Mielczarskiego', '2553', '52.131146', '21.061376', 'Metro Kabaty'), ('3245', '01', 'Gotarda', '1913', '52.171229', '21.005798', 'Bartłomieja'), ('3250', '01', 'Postępu', '1506', '52.178861', '20.998383', 'rondo Unii Europejskiej'), ('3301', '02', 'Malinowskiego', '0510', '52.150181', '21.037497', 'Ciszewskiego'), ('3203', '01', 'Małej Łąki', '2005', '52.134517', '21.052970', 'Belgradzka'), ('3243', '05', 'rondo Unii Europejskiej', '1913', '52.176779', '21.002181', 'Cybernetyki'), ('3282', '04', 'Metro Kabaty', '2553', '52.131281', '21.064910', 'Mielczarskiego'), ('7002', '02', 'Dw.Centralny', '0101', '52.228223', '21.003378', 'al.Jana Pawła II'), ('3284', '01', 'Rybałtów', '2005', '52.131677', '21.055935', 'Małej Łąki'), ('3134', '01', 'Centrum Onkologii', '0316', '52.150099', '21.033733', 'Dereniowa'), ('3243', '02', 'rondo Unii Europejskiej', '1506', '52.178515', '21.000836', 'Postępu'), ('4030', '02', 'Banacha-Szpital', '2802', '52.210978', '20.988402', 'Wawelska'), ('3203', '04', 'Małej Łąki', '2005', '52.133504', '21.054056', 'Rybałtów'), ('3250', '02', 'Postępu', '1506', '52.179713', '20.995463', 'PKP Służewiec'), ('3400', '01', 'os.Kabaty', '0113', '52.128946', '21.068699', 'Wąwozowa')}\n"
     ]
    }
   ],
   "source": [
    "# Load the table from a pickle file\n",
    "bus_line_stops = load_obj_from_pickle_file(pickle_filename)\n",
    "print(bus_line_stops['504'])"
   ]
  }
 ],
 "metadata": {
  "kernelspec": {
   "display_name": "Python 3 (ipykernel)",
   "language": "python",
   "name": "python3"
  },
  "language_info": {
   "codemirror_mode": {
    "name": "ipython",
    "version": 3
   },
   "file_extension": ".py",
   "mimetype": "text/x-python",
   "name": "python",
   "nbconvert_exporter": "python",
   "pygments_lexer": "ipython3",
   "version": "3.10.12"
  }
 },
 "nbformat": 4,
 "nbformat_minor": 5
}
