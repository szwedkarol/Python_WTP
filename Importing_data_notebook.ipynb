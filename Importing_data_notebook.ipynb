{
 "cells": [
  {
   "cell_type": "markdown",
   "id": "d18f3c1f",
   "metadata": {},
   "source": [
    "Autor: Karol Szwed\n",
    "\n",
    "Data: 17.02.2023 r.\n",
    "\n",
    "Projekt: Końcowe zadanie zaliczeniowe - analiza danych z użyciem API dla ZTM w Warszawie"
   ]
  },
  {
   "cell_type": "markdown",
   "id": "767495bd",
   "metadata": {},
   "source": [
    "# Cel projektu\n",
    "\n",
    "TODO: Opisać"
   ]
  },
  {
   "cell_type": "markdown",
   "id": "ae6171e5",
   "metadata": {},
   "source": [
    "# Pobranie danych GPS dla autobusów\n",
    "\n",
    "TODO: Opisać"
   ]
  }
 ],
 "metadata": {
  "kernelspec": {
   "display_name": "Python 3 (ipykernel)",
   "language": "python",
   "name": "python3"
  },
  "language_info": {
   "codemirror_mode": {
    "name": "ipython",
    "version": 3
   },
   "file_extension": ".py",
   "mimetype": "text/x-python",
   "name": "python",
   "nbconvert_exporter": "python",
   "pygments_lexer": "ipython3",
   "version": "3.10.12"
  }
 },
 "nbformat": 4,
 "nbformat_minor": 5
}
